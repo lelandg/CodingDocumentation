{
 "cells": [
  {
   "cell_type": "code",
   "execution_count": null,
   "id": "initial_id",
   "metadata": {
    "collapsed": true
   },
   "outputs": [],
   "source": "import re"
  },
  {
   "metadata": {},
   "cell_type": "code",
   "outputs": [],
   "execution_count": null,
   "source": [
    "with open('app.py', 'r') as f:\n",
    "    code ="
   ],
   "id": "994b97aeb169d88b"
  },
  {
   "metadata": {},
   "cell_type": "code",
   "outputs": [],
   "execution_count": null,
   "source": [
    "# Define the new cookie management code to insert\n",
    "cookie_management_code = '''\n",
    "# Cookie management for cross-session persistence\n",
    "def get_cookie_manager():\n",
    "    \"\"\"Create and return a cookie manager instance\"\"\"\n",
    "    return stx.CookieManager()\n",
    "\n",
    "def save_user_id_to_cookie(cookie_manager, user_id):\n",
    "    \"\"\"Save user ID to a cookie\"\"\"\n",
    "    cookie_manager.set(\"user_id\", user_id, expires_at=datetime.now() + pd.Timedelta(days=30))\n",
    "\n",
    "def load_user_id_from_cookie(cookie_manager):\n",
    "    \"\"\"Load user ID from cookie if it exists\"\"\"\n",
    "    return cookie_manager.get(\"user_id\")\n",
    "'''\n",
    "\n",
    "# Find the import section to add the streamlit-extras import\n",
    "imports_pattern = r'import streamlit as st.*?(?=\\n\\n)'\n",
    "updated_imports = re.search(imports_pattern, code, re.DOTALL).group(0)\n",
    "updated_imports += '\\nimport extra_streamlit_components as stx'\n",
    "\n",
    "code = re.sub(imports_pattern, updated_imports, code, flags=re.DOTALL)\n",
    "\n",
    "# Insert the cookie management code after ensure_data_dir_exists\n",
    "pattern = r'def ensure_data_dir_exists\\(\\).*?ensure_data_dir_exists\\(\\)'\n",
    "match = re.search(pattern, code, re.DOTALL)\n",
    "if match:\n",
    "    replacement = match.group(0) + '\\n' + cookie_management_code\n",
    "    code = code.replace(match.group(0"
   ],
   "id": "53cb23bfd084594f"
  },
  {
   "metadata": {},
   "cell_type": "code",
   "outputs": [],
   "execution_count": null,
   "source": [
    "# Update the get_user_id function to use cookies\n",
    "updated_get_user_id = '''\n",
    "def get_user_id():\n",
    "    \"\"\"Get a unique user ID or create one if it doesn't exist\"\"\"\n",
    "    if \"user_id\" not in st.session_state:\n",
    "        # Initialize cookie manager\n",
    "        cookie_manager = get_cookie_manager()\n",
    "        \n",
    "        # Try to load from cookie first\n",
    "        cookie_user_id = load_user_id_from_cookie(cookie_manager)\n",
    "        \n",
    "        if cookie_user_id:\n",
    "            # Use ID from cookie\n",
    "            st.session_state.user_id = cookie_user_id\n",
    "            st.session_state.persistent_user_id = cookie_user_id\n",
    "        elif \"persistent_user_id\" in st.session_state:\n",
    "            # Use previously stored ID from session state\n",
    "            st.session_state.user_id = st.session_state.persistent_user_id\n",
    "        else:\n",
    "            # Generate a new user ID\n",
    "            st.session_state.user_id = str(uuid.uuid4())\n",
    "            st.session_state.persistent_user_id = st.session_state.user_id\n",
    "            \n",
    "            # Save to cookie for persistence across sessions\n",
    "            save_user_id_to_cookie(cookie_manager, st.session_state.user_id)\n",
    "            \n",
    "    return st.session_state.user_id\n",
    "'''\n",
    "\n",
    "# Replace the old get_user_id function\n",
    "old_get_user_id_pattern = r'def get_user_id\\(\\).*?return st\\.session_state\\.user_id'\n",
    "code = re.sub(old_get_user_id_pattern, updated_get_user_id, code, flags="
   ],
   "id": "8cf6b85544225202"
  },
  {
   "metadata": {},
   "cell_type": "code",
   "outputs": [],
   "execution_count": null,
   "source": [
    "# Update the page configuration section to initialize the cookie manager\n",
    "page_config_pattern = r'st.set_page_config\\(.*?\\)'\n",
    "match = re.search(page_config_pattern, code, re.DOTALL)\n",
    "if match:\n",
    "    updated_page_config = match.group(0) + '\\n\\n# Initialize cookie manager for persistent user ID\\ncookie_manager = get_cookie_manager()'\n",
    "    code = code.replace(match.group(0), updated_page_config)"
   ],
   "id": "e393a6dc806371c2"
  },
  {
   "metadata": {},
   "cell_type": "code",
   "outputs": [],
   "execution_count": null,
   "source": [
    "with open('app.py', 'w') as f:\n",
    "    f.write(code)\n",
    "\n",
    "print(\"Updated app.py with cross-session history support"
   ],
   "id": "be373d41ed2ec3c4"
  },
  {
   "metadata": {},
   "cell_type": "code",
   "outputs": [],
   "execution_count": null,
   "source": [
    "with open('requirements.txt', 'w') as f:\n",
    "    f.write('streamlit\\npandas\\nextra-streamlit-components\\npython-docx\\n')\n",
    "\n",
    "print(\"Created requirements.txt with the necessary dependencies.\")"
   ],
   "id": "a77fe5fc415d23a0"
  }
 ],
 "metadata": {
  "kernelspec": {
   "display_name": "Python 3",
   "language": "python",
   "name": "python3"
  },
  "language_info": {
   "codemirror_mode": {
    "name": "ipython",
    "version": 2
   },
   "file_extension": ".py",
   "mimetype": "text/x-python",
   "name": "python",
   "nbconvert_exporter": "python",
   "pygments_lexer": "ipython2",
   "version": "2.7.6"
  }
 },
 "nbformat": 4,
 "nbformat_minor": 5
}
